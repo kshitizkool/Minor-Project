{
  "nbformat": 4,
  "nbformat_minor": 0,
  "metadata": {
    "colab": {
      "provenance": [],
      "authorship_tag": "ABX9TyOkXkGSx5AFtHLvxlCUouP2",
      "include_colab_link": true
    },
    "kernelspec": {
      "name": "python3",
      "display_name": "Python 3"
    },
    "language_info": {
      "name": "python"
    }
  },
  "cells": [
    {
      "cell_type": "markdown",
      "metadata": {
        "id": "view-in-github",
        "colab_type": "text"
      },
      "source": [
        "<a href=\"https://colab.research.google.com/github/kshitizkool/Minor-Project/blob/main/Sparse_XGboost.ipynb\" target=\"_parent\"><img src=\"https://colab.research.google.com/assets/colab-badge.svg\" alt=\"Open In Colab\"/></a>"
      ]
    },
    {
      "cell_type": "code",
      "execution_count": 2,
      "metadata": {
        "colab": {
          "base_uri": "https://localhost:8080/"
        },
        "id": "LzsfyRXYg94p",
        "outputId": "9cd18037-bf27-45ae-cac3-d17de6941a1a"
      },
      "outputs": [
        {
          "output_type": "stream",
          "name": "stdout",
          "text": [
            "Accuracy:  0.525\n",
            "Training Accuracy:  0.5282608695652173\n"
          ]
        }
      ],
      "source": [
        "import numpy as np\n",
        "import xgboost as xgb\n",
        "import scipy.sparse as sparse\n",
        "from sklearn.decomposition import PCA\n",
        "from sklearn.feature_selection import SelectKBest, chi2\n",
        "from sklearn.model_selection import train_test_split\n",
        "from sklearn.metrics import accuracy_score\n",
        "\n",
        "# Create a sparse matrix with 1000 rows and 5000 columns\n",
        "rows, columns = 1000, 1000\n",
        "data = np.zeros((rows, columns))\n",
        "\n",
        "# Fill only 10% of the matrix with random values\n",
        "for i in range(int(0.1 * rows * columns)):\n",
        "    row, col = np.random.randint(0, rows), np.random.randint(0, columns)\n",
        "    data[row, col] = np.random.randint(0,1)\n",
        "\n",
        "# Define target variable\n",
        "target = np.random.randint(0, 2, size=(rows,))\n",
        "\n",
        "# Convert the matrix to a sparse matrix\n",
        "sparse_data = sparse.csr_matrix(data)\n",
        "\n",
        "# Apply feature selection to the sparse matrix\n",
        "selector = SelectKBest(score_func=chi2, k=100)\n",
        "new_data = selector.fit_transform(sparse_data, target)\n",
        "\n",
        "# Split the data into training and test sets\n",
        "X_train, X_test, y_train, y_test = train_test_split(new_data, target, test_size=0.08, random_state=0)\n",
        "\n",
        "# Train an XGBoost model on the training data\n",
        "xgb_model = xgb.XGBClassifier(objective=\"binary:logistic\")\n",
        "xgb_model.fit(X_train, y_train)\n",
        "\n",
        "# Evaluate the XGBoost model on the test data\n",
        "y_pred = xgb_model.predict(X_test)\n",
        "accuracy = accuracy_score(y_test, y_pred)\n",
        "print(\"Accuracy: \", accuracy)\n",
        "\n",
        "y_pred_train = xgb_model.predict(X_train)\n",
        "accuracy = accuracy_score(y_train,y_pred_train)\n",
        "print(\"Training Accuracy: \", accuracy)"
      ]
    }
  ]
}