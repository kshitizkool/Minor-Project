{
  "nbformat": 4,
  "nbformat_minor": 0,
  "metadata": {
    "colab": {
      "provenance": [],
      "authorship_tag": "ABX9TyPKM8Cl0FD3lQHex8rh55Ns",
      "include_colab_link": true
    },
    "kernelspec": {
      "name": "python3",
      "display_name": "Python 3"
    },
    "language_info": {
      "name": "python"
    }
  },
  "cells": [
    {
      "cell_type": "markdown",
      "metadata": {
        "id": "view-in-github",
        "colab_type": "text"
      },
      "source": [
        "<a href=\"https://colab.research.google.com/github/kshitizkool/Minor-Project/blob/main/sparse_pca_random_forest.ipynb\" target=\"_parent\"><img src=\"https://colab.research.google.com/assets/colab-badge.svg\" alt=\"Open In Colab\"/></a>"
      ]
    },
    {
      "cell_type": "code",
      "execution_count": 3,
      "metadata": {
        "colab": {
          "base_uri": "https://localhost:8080/"
        },
        "id": "5WVhOsTSg5fk",
        "outputId": "cced94f9-f8fa-4f42-cd8e-6b6ec4be6b00"
      },
      "outputs": [
        {
          "output_type": "stream",
          "name": "stdout",
          "text": [
            "Accuracy:  0.865\n",
            "Training Accuracy:  1.0\n"
          ]
        }
      ],
      "source": [
        "import numpy as np\n",
        "import pandas as pd\n",
        "from sklearn.decomposition import PCA\n",
        "from sklearn.model_selection import train_test_split\n",
        "from sklearn.metrics import accuracy_score,roc_auc_score, f1_score, recall_score, precision_score\n",
        "from sklearn.ensemble import RandomForestClassifier\n",
        "\n",
        "# Create a sparse matrix with 1000 rows and 5000 columns\n",
        "rows, columns = 1000, 5000\n",
        "data = np.zeros((rows, columns))\n",
        "\n",
        "# Fill only 10% of the matrix with random values\n",
        "for i in range(int(0.1 * rows * columns)):\n",
        "    row, col = np.random.randint(0, rows), np.random.randint(0, columns)\n",
        "    data[row, col] = np.random.randint(1, 10)\n",
        "    \n",
        "# Convert the matrix to a pandas dataframe\n",
        "df = pd.DataFrame(data)\n",
        "\n",
        "# Split the data into features (X) and target (y)\n",
        "X = df.iloc[:, :-1]\n",
        "y = df.iloc[:, -1]\n",
        "\n",
        "# Split the data into training and test sets\n",
        "X_train, X_test, y_train, y_test = train_test_split(X, y, test_size=0.2, random_state=0)\n",
        "\n",
        "# Apply PCA to the training data\n",
        "pca = PCA(n_components=100)\n",
        "X_train = pca.fit_transform(X_train)\n",
        "X_test = pca.transform(X_test)\n",
        "\n",
        "# Train a Random Forest classifier on the training data\n",
        "rf_model = RandomForestClassifier()\n",
        "rf_model.fit(X_train, y_train)\n",
        "\n",
        "# Evaluate the Random Forest model on the test data\n",
        "y_pred = rf_model.predict(X_test)\n",
        "accuracy = accuracy_score(y_test, y_pred)\n",
        "print(\"Accuracy: \", accuracy)\n",
        "\n",
        "y_pred_train = rf_model.predict(X_train)\n",
        "accuracy = accuracy_score(y_train,y_pred_train)\n",
        "print(\"Training Accuracy: \", accuracy)"
      ]
    }
  ]
}